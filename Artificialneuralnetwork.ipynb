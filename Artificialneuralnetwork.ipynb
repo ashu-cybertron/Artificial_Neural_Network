{
 "cells": [
  {
   "cell_type": "markdown",
   "metadata": {},
   "source": [
    "# ANN"
   ]
  },
  {
   "cell_type": "raw",
   "metadata": {},
   "source": []
  },
  {
   "cell_type": "code",
   "execution_count": 12,
   "metadata": {},
   "outputs": [],
   "source": [
    "import numpy as np"
   ]
  },
  {
   "cell_type": "markdown",
   "metadata": {},
   "source": [
    "### Step 0: Read input and output\n"
   ]
  },
  {
   "cell_type": "markdown",
   "metadata": {},
   "source": []
  },
  {
   "cell_type": "markdown",
   "metadata": {},
   "source": [
    "\n",
    "### input array"
   ]
  },
  {
   "cell_type": "code",
   "execution_count": 13,
   "metadata": {},
   "outputs": [],
   "source": [
    "X=np.array([[1,0,1,0],[1,0,1,1],[0,1,0,1]])"
   ]
  },
  {
   "cell_type": "markdown",
   "metadata": {},
   "source": [
    "### Output"
   ]
  },
  {
   "cell_type": "code",
   "execution_count": 14,
   "metadata": {},
   "outputs": [],
   "source": [
    "y=np.array([[1],[1],[0]])"
   ]
  },
  {
   "cell_type": "markdown",
   "metadata": {},
   "source": [
    "### Sigmoid Function-activation function used to reduce the complexity of compution  while passing the input from one hideen layer to other\n"
   ]
  },
  {
   "cell_type": "markdown",
   "metadata": {},
   "source": [
    "#### the ouput of sigmoid function ranges between the value 0 and 1 "
   ]
  },
  {
   "cell_type": "code",
   "execution_count": 15,
   "metadata": {},
   "outputs": [],
   "source": [
    "def sigmoid (x):\n",
    "    return 1/(1 + np.exp(-x))"
   ]
  },
  {
   "cell_type": "markdown",
   "metadata": {},
   "source": [
    "### Derivative of Sigmoid Function is performed during the backpropagation for achieveing more accuracy"
   ]
  },
  {
   "cell_type": "code",
   "execution_count": 16,
   "metadata": {},
   "outputs": [],
   "source": [
    "def derivatives_sigmoid(x):\n",
    "    return x * (1 - x)"
   ]
  },
  {
   "cell_type": "markdown",
   "metadata": {},
   "source": [
    "### Variable initialization"
   ]
  },
  {
   "cell_type": "code",
   "execution_count": 17,
   "metadata": {},
   "outputs": [],
   "source": [
    "epoch=5000 #Setting training iterations\n",
    "lr=0.1 #Setting learning rate-taking only some amount data for computation\n",
    "inputlayer_neurons = 4 #number of features in data set\n",
    "hiddenlayer_neurons = 3 #number of hidden layers neurons\n",
    "output_neurons = 1 # number of output layer"
   ]
  },
  {
   "cell_type": "markdown",
   "metadata": {},
   "source": [
    "### Step 1: Initialize weights and biases with random values (There are methods to initialize weights and biases but for now initialize with random values)\n"
   ]
  },
  {
   "cell_type": "markdown",
   "metadata": {},
   "source": []
  },
  {
   "cell_type": "code",
   "execution_count": 18,
   "metadata": {},
   "outputs": [],
   "source": [
    "wh=np.random.uniform(size=(inputlayer_neurons,hiddenlayer_neurons))\n",
    "bh=np.random.uniform(size=(1,hiddenlayer_neurons))\n",
    "wout=np.random.uniform(size=(hiddenlayer_neurons,output_neurons))\n",
    "bout=np.random.uniform(size=(1,output_neurons))\n"
   ]
  },
  {
   "cell_type": "code",
   "execution_count": 19,
   "metadata": {
    "scrolled": true
   },
   "outputs": [
    {
     "name": "stdout",
     "output_type": "stream",
     "text": [
      "Input:\n",
      "[[1 0 1 0]\n",
      " [1 0 1 1]\n",
      " [0 1 0 1]]\n",
      "Actual output: \n",
      "[[1]\n",
      " [1]\n",
      " [0]]\n",
      "Predicted output:\n",
      "[[0.97854912]\n",
      " [0.96708017]\n",
      " [0.04759332]]\n"
     ]
    }
   ],
   "source": [
    "for i in range(epoch):\n",
    "    #Forward Propogation:\n",
    "    #Step 2: Calculate hidden layer input:hidden_layer_input= matrix_dot_product(X,wh) + bh\n",
    "    hidden_layer_input1=np.dot(X,wh)\n",
    "    hidden_layer_input=hidden_layer_input1 + bh\n",
    "    #Step 3: Perform non-linear transformation on hidden linear input\u000b",
    "hiddenlayer_activations = sigmoid(hidden_layer_input)\n",
    "    hiddenlayer_activations = sigmoid(hidden_layer_input)\n",
    "    #Step 4: Perform linear and non-linear transformation of hidden layer activation at output layer \n",
    "    #output_layer_input = matrix_dot_product (hiddenlayer_activations * wout ) + bout\u000b",
    "output = sigmoid(output_layer_input)\n",
    "    output_layer_input1=np.dot(hiddenlayer_activations,wout)\n",
    "    output_layer_input= output_layer_input1+ bout\n",
    "    output = sigmoid(output_layer_input)\n",
    "\n",
    "    #Backpropagation\n",
    "    #Compare the prediction with actual output \n",
    "    #Step 5: Calculate gradient of Error(E) at output layer\n",
    "    #E = y-output\n",
    "    E = y-output\n",
    "    #Calculate the slope/gradient of hidden and output neurons\n",
    "    #Step 6: Compute slope at output and hidden layer\n",
    "    #Slope_output_layer= derivatives_sigmoid(output)\n",
    "    #Slope_hidden_layer = derivatives_sigmoid(hiddenlayer_activations)\n",
    "    slope_output_layer = derivatives_sigmoid(output)\n",
    "    slope_hidden_layer = derivatives_sigmoid(hiddenlayer_activations)\n",
    "    \n",
    "    #compute the change factor/delta at output player\n",
    "    #Step 7: Compute delta at output layer. d_output = E * slope_output_layer*lr\n",
    "\n",
    "    d_output = E * slope_output_layer\n",
    "    \n",
    "    #In this step, the error will propoagate back into network which means at hidden layer.\n",
    "    # For this, we will take the dot product of output layer delta with weight parameters of edges between hidden and output layer\n",
    "    #Step 8: Calculate Error at hidden layer Error_at_hidden_layer = matrix_dot_product(d_output, wout.Transpose)\n",
    "    Error_at_hidden_layer = d_output.dot(wout.T)\n",
    "    #Compute the change factor at hidden layer\n",
    "    #Step 9: Compute delta at hidden layer d_hiddenlayer = Error_at_hidden_layer * slope_hidden_layer\n",
    "    d_hiddenlayer = Error_at_hidden_layer * slope_hidden_layer\n",
    "    \n",
    "    #update the weights at output and hidden layer.\n",
    "    #Step 10: Update weight at both output and hidden layer\n",
    "    #wout = wout + matrix_dot_product(hiddenlayer_activations.Transpose, d_output)*learning_rate\n",
    "    #wh =  wh+ matrix_dot_product(X.Transpose,d_hiddenlayer)*learning_rate\n",
    "    wout += hiddenlayer_activations.T.dot(d_output) *lr\n",
    "    wh += X.T.dot(d_hiddenlayer) *lr\n",
    "    #update the bias at output and hidden layer.\n",
    "    bout += np.sum(d_output, axis=0,keepdims=True) *lr\n",
    "    bh += np.sum(d_hiddenlayer, axis=0,keepdims=True) *lr\n",
    "    \n",
    "print(\"Input:\\n\" + str(X))   \n",
    "print(\"Actual output: \\n\" + str(y))\n",
    "print(\"Predicted output:\")\n",
    "print (output)"
   ]
  },
  {
   "cell_type": "code",
   "execution_count": null,
   "metadata": {},
   "outputs": [],
   "source": []
  }
 ],
 "metadata": {
  "kernelspec": {
   "display_name": "Python 3",
   "language": "python",
   "name": "python3"
  },
  "language_info": {
   "codemirror_mode": {
    "name": "ipython",
    "version": 3
   },
   "file_extension": ".py",
   "mimetype": "text/x-python",
   "name": "python",
   "nbconvert_exporter": "python",
   "pygments_lexer": "ipython3",
   "version": "3.7.1"
  }
 },
 "nbformat": 4,
 "nbformat_minor": 2
}
